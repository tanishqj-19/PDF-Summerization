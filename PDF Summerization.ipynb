{
 "cells": [
  {
   "cell_type": "code",
   "execution_count": 1,
   "id": "56f7eb8c",
   "metadata": {},
   "outputs": [],
   "source": [
    "import nltk\n",
    "from nltk.corpus import stopwords\n",
    "from nltk.tokenize import word_tokenize, sent_tokenize\n",
    "from string import punctuation\n",
    "import openai\n",
    "import PyPDF2\n",
    "\n",
    "\n",
    "# Download necessary resources (run once)\n",
    "# nltk.download('punkt')\n",
    "# nltk.download('stopwords')\n",
    "# nltk.download('averaged_perceptron_tagger')\n",
    "\n",
    "                         \n"
   ]
  },
  {
   "cell_type": "code",
   "execution_count": 2,
   "id": "b2bba7c2",
   "metadata": {},
   "outputs": [],
   "source": [
    "# Extract Text from PDF\n",
    "\n",
    "path = r\"Amicus Brief on Behalf of Mississippi, Alabama, Alaska, Arkansas etc....pdf\"\n",
    "def extract_text(path):\n",
    "    with open(path, 'rb') as file:\n",
    "        text = ''\n",
    "        pdf_read = PyPDF2.PdfReader(file)\n",
    "        for page in range(len(pdf_read.pages)):\n",
    "            text += pdf_read.pages[page].extract_text()\n",
    "    return text;\n",
    "\n",
    "# Storing text \n",
    "doc_text = extract_text(path)"
   ]
  },
  {
   "cell_type": "code",
   "execution_count": 3,
   "id": "713503de",
   "metadata": {},
   "outputs": [],
   "source": [
    "# Removing stop words and punctuations as they're not necessary\n",
    "\n",
    "def preprocess_text(text):\n",
    "    stop_words = set(stopwords.words('english'))\n",
    "    # Remove punctuation\n",
    "    text = ''.join([c for c in text if c not in punctuation])\n",
    "    # Remove stopwords\n",
    "    words = text.split()\n",
    "    filtered_words = [word for word in words if word.lower() not in stop_words]\n",
    "    filtered_text = ' '.join(filtered_words)\n",
    "    return filtered_text\n",
    "\n",
    "doc_text = preprocess_text(doc_text)"
   ]
  },
  {
   "cell_type": "code",
   "execution_count": 4,
   "id": "a8c88ba6",
   "metadata": {},
   "outputs": [
    {
     "name": "stdout",
     "output_type": "stream",
     "text": [
      "UNITED STATES DISTRICT COURT NORTHERN DISTRICT TEXAS AMARILLO DIVISION ALLIANCE HIPPOCRATIC MEDICINE et al Plaintiff v Case 222cv00223 Z US FOOD DRUG ADMINISTRATION et al Defendants AMICUS CURIAE BRIEF MISSISSIPPI ALABAMA ALASKA ARKANSAS FLORIDA GEORGIA IDAHO INDIANA IOWA KANSAS KENTUCKY LOUISIANA MONTANA NEBRASKA OHIO OKLAHOMA SOUTH CAROLINA SOUTH DAKOTA TENNESSEE TEXAS UTAH WYOMING SUPPORT PLAINTIFFS ’ MOTION PRELIMINARY INJUNCTION Case 222cv00223Z Document 100 Filed 021323 Page 1 26 PageID 3760i TABLE CONTENTS Page TABLE AUTHORITIES ii INTRODUCTION INTEREST AMICI CURIAE SUMMARY ARGUMENT 1 BACKGROUND 4 ARGUMENT 7 Public Interest Equities Support Injunctive Relief FDA’s Actions Mifepristone 7 Public Interest Equities Weigh Strongly FDA’s Actions Actions Defy Federal Law 8 B FDA’s Actions Undermine Public Interest Determinations States—Not Federal Agencies —Are Entitled Make 11 C FDA’s Actions Harm Public Interest Undermining States’ Ability Protect Citizens Forcing States Divert Scarce Resources Investigating Prosecuting Violations Laws 14 CONCLUSION 18 Case 222cv00223Z Document 100 Filed 021323 Page 2 26 PageID 3761ii TABLE AUTHORITIES Pages Cases Dobbs v Jackson Women’s Health Organization 142 Ct 2228 2022 1 2 11 12 13 14 17 Gonzales v Oregon 546 US 243 2006 12 Hillsborough Cnty Fla v Automated Med Laboratories Inc 471 US 707 1985 12 Maine v Taylor 477 US 131 1986 16 Metro Life Ins Co v Massachusetts 471 US 724 1985 12 15 Rice v Santa Fe Elevator Corp 331 US 218 1947 15 Solid Waste Agency N Cook Cnty v US Army Corps Engineers 531 US 159 2001 15 Texas v Biden 10 F4th 538 5th Cir 2021 8 11 Texas v United States 787 F 3d 733 5th Cir 2015 1617 Valley v Rapides Parish Sch Bd 118 F3d 1047 5th Cir 1997 8 11 Wages White Lion Invs LLC v FDA 16 F4th 1130 5th Cir 2021 8 Constitutional Provision US Const amend X 14 Case 222cv00223Z Document 100 Filed 021323 Page 3 26 PageID 3762iii Statutes 18 USC § 1461 10 11 14 18 USC § 1462 10 11 21 USC § 321 4 21 USC § 355 4 21 USC § 3551 5 21 USC § 393 4 Food Drug Administration Amendments Act Pub L 110 85 121 Stat 823 2007 5 9 Ind Code Ann § 16 3421 13 La Stat Ann § 4010611 1 13 Miss Code Ann § 414145 12 13 Miss Code Ann § 4141103 13 Miss Code Ann § 4141107 13 Okla Stat Ann tit 63 § 17291 13 Pub L 91 662 84 Stat 1973 1971 10 Tex Health Safety Code Ann § 171063 13 Executive Order Protecting Access Reproductive Healthcare Services Exec Order 14076 87 Fed Reg 42053 2022 2 11 Regulations 21 CFR § 3142 1314 21 CFR § 314500 4 8 9 10 13 14 Case 222cv00223Z Document 100 Filed 021323 Page 4 26 PageID 3763iv 21 CFR § 314520 4 21 C FR §§ 314500 314560 5 Rulemaking New Drug Antibiotic Biological Drug Product Regulations Accelerated Approval 57 Fed Reg 58942 Dec 11 1992 9 Authorities Abortion Pills Offered Retail Pharmacies FDA Says NY Times Jan 3 2023 16 Fact Sheet President Biden Announces Actions Light Today’s Supreme Court Decision Dobbs v Jackson Women’s Health Organization White House June 24 2022 2 Fact Sheet President Biden Sign Presidential Memorandum Ensuring Safe Access Medication Abortion White House Jan 22 2023 2 HR 13959 95th Cong 1978 10 HR Rep 29 1979 10 Memorandum Efforts Protect Access Reproductive Healthcare Services White House Jan 22 2023 2 15 17 NIH Nat’l Library Medicine 4 Remarks President Joe Biden —State Union Address Prepared Delivery White House Feb 7 2023 17 Retail Pharmacies Offer Abortion Pill FDA Says Politico Jan 3 2023 16 US Food Drug Admin Information Mifepristone Medical Termination Pregnancy Ten Weeks Gestation 67 Case 222cv00223Z Document 100 Filed 021323 Page 5 26 PageID 3764v US Food Drug Admin Risk Evaluation Mitigation Strategies 5 Case 222cv00223Z Document 100 Filed 021323 Page 6 26 PageID 3765 1 INTRODUCTION INTEREST AMICI CURIAE SUMMARY ARGUMENT Last year Supreme Court held abortion matter entrusted “the people elected representatives” address Dobbs v Jackson Women’s Health Organization 142 Ct 2228 2284 2022 Overruling precedent took auth ority away people Court returned issue “regulating prohibiting abortion” “the citizens State” Ibid States may thus pursue “legitimate interests” protecting unborn life women’s health medical professio n’s integrity regulating restricting abortion Ibid Amici curiae States Mississippi Alabama Alaska Arkansas Florida Georgia Idaho Indiana Iowa Kansas Kentucky Louisiana Montana Nebraska Ohio Oklahoma South Carolina South Dakota Tennessee Texas Utah Wyoming Like States amici consistent Constitution Supreme Court’s decision Dobbs adopted laws regulating abortion —including chemical abortion laws strike balanc e among competing interests result hard fought democratic processes embody considered judgments “the people elected representatives” Ibid States chosen adopt maintain tighter restrictions thorough regulations abortion Dobbs States continued embraced permissive regimes States provisions abortion laws protect woman’s life commonly include exceptions circumstances choices reflect approach Constitution envisions addressing complex issues require “legislative bodies” “draw lines accommodate competing interests” Id 2268 Case 222cv00223Z Document 100 Filed 021323 Page 7 26 PageID 3766 2 Rather respect Constitution Supr eme Court democratic process Biden Administration attacked worked undermine considered judgments elected representatives States like amici Administration’s actions abortion drugs typify effort day bbs decided President Biden directed Administration ensure abortion drugs “as widely accessible possible ” including “through telehealth sent mail” Fact Sheet President Biden Announces Actions Light Today’s Supreme Court Decision Dobbs v Jackson Women’s Health Organization White House June 24 2022 httpbitly3DqTmwd President soon signed executive order lamenting State s’ regulation abortion directing federal agencies “expand access abortion care including medication abortion” Protecting Access Reproductive Healthcare Services Exec Order 14076 87 Fed Reg 42053 42053 2022 weeks ago President Biden signed memorandum spotlighting Administration’s e fforts “evaluate monitor ” state laws “ threaten infringe ” purported “Federal legal protections abortion ” Memorandum Efforts Protect Access Reproductive Healthcare Services White House Jan 22 2023 httpbitly3kEZrPl also expressed intent promote access abortion drugs patients providers “no matter live” Fact Sheet President Biden Sign Presidential Memorandum Ensuring Safe Access Medication Abortio n White House Jan 22 2023 httpbitly3I160Vn Although Biden Administration following Dobbs doubled efforts impose country elective abortion policy could never achieve democratic process goal new —especially abortion drugs Case 222cv00223Z Document 100 Filed 021323 Page 8 26 PageID 3767 3 two decades US Food Drug Administration acted establish nationwide regime demand abortion licensing sweeping access chemical abortion drugs —in defiance federal state laws protecting life health safety See Pls’ Mot 2 6 Dkt 7 n 2000 FDA purported approve drug mifepristone chemically induced abortions 49 days pregnancy approval basic legal problems include safety measures account mifepristone’s serious risks life health Yet time FDA cast even measures aside 2016 FDA rolled back many safety requirements —allow ing mifepristone prescribed later pregnancy non doctors one person visit 2021 agency halted maining inperson dispensing requirement COVID 19 pandemic later abandon ed requirement altogether decades efforts FDA broadly condones wide ranging mailorder abortion drug regime Plaintiff moved preliminarily enjoin set aside FDA’s actions brief explains public interest equities strongly support relief FDA’s actions First FDA ’s actions contravene feder al law disserve public interest Second FDA ’s actions defy public interest determinations made amici States entrusted balancing policy equitable considerations area Last FDA ’s actions threaten undermine amici States’ enforcement duly enacted laws thus undercut public interest laws promote reasons njunctive r elief FDA ’s actions would promote public interest Case 222cv00223Z Document 100 Filed 021323 Page 9 26 PageID 3768 4 BACKGROUND Federal Food Drug Cosmetic Act directs US Food Drug Administration “protect public health ensuring human veterinary drugs safe effective” 21 USC § 393b2B Act FDA responsible approving “new drug” marketed distributed public Id § 321p1 Act bars anyone “introducing delivering introduction interstate commerce new drug” without FDA “approval ” Id § 355a obtain FDA approval new drug must undergo extensive process rigorous testing FDA’s conclusion drug safe effective must based “ substantial evidence ” expert consensus Id § 355d 2000 FDA approved marketing distribution mifepristone “the medical termination intrauterine pregnancy 49 days’ pregnancy ” App518 Dkt 8 Mifepristone synthetic steroid causes “ menstrual bleeding disruption endometrium uter ine lining termination” pregnancy Mifepristone NIH Nat’l Library Medicine httpbitly403EjSN Mifepristone generally followed dose misoprostol causes pregnant woman’s uterus contract expel detached embryo Id Misoprostol httpbitly3DgTpKZ F DA approved mifepristone Subpart H agency’s regulations mplement agency’s general authority approve new drug “have studied safety effectiveness treating serious life threatening illnesses” 21 CFR § 314500 “ safely used distribution use restricted ” id § 314520 satisfy Subpart H FDA needed to—and did—deem Case 222cv00223Z Document 100 Filed 021323 Page 10 26 PageID 3769 5 pregnancy “serious life threatening illness ” even absence complications conclude mifepristone “safe ” “provided meaningful therapeutic benefit” App523 citing 21 C FR §§ 314500 314560 Despite approving mifepristone FD recognized serious risk “urgent adverse events associated with” drug —including incomplete abortions severe bleeding requiring surg ery App522 risks increase later pregnancy cases ectopic pregnancy App518 25 607 09 approval thus included requirements drug provided “by supervision physician” bility “ assess duration pregnancy accurately” “diagnose ectopic pregnancies” “provide arrange surgical intervention cases incomplete abortion severe bleeding” “ assure patient access medical facilities equipped provide blood transfusions resuscitation ” App5 23 2007 Congress enacted Food Drug Administration Amendments Act Pub L 110 85 121 Stat 823 2007 hat law affected FDA approvals un der Subpart H directed agency adopt Risk Evaluation Mitigation Strategy REMS new drug “necessary ensure benefits drug outweigh risks” 21 USC § 3551a1 2 REMS operates “drug safety program” medications present “serious safety concerns” US Food Drug Admin Risk Evaluation Mitigation Strategies httpbitly3wKOwGp see ibid “While medications labeling informs health care stakeholders medication risks medications require REMS” serious safety concerns involved FDA established REMS program mifepristone 2011 various “elements assure safe use” including requirement Case 222cv00223Z Document 100 Filed 021323 Page 11 26 PageID 3770 6 drug dispensed certain healthcare settings —clinics medical offices hospitals —under supervision certified prescriber App731 32 Despite risks F DA recognized next decade beyond Obama Biden Administrations expand ed mifepristone’s use drop ped safety measures erected around 2016 FDA extended approved use mifepristone 70 days 10 weeks pregnancy allowed broader set person prescribe drug reduced number required person patient visits three one App625 52 732 agency maintained requirement least one person visit drug could dispensed clinics medical offices hospitals supervision certified healthcare provider App733 April 2021 however FDA stopped enforcing th e inperson dispensing requirement FDA attributed decision “COVID related risks” person dispensing App715 agency added would “exercise enforcement discretion COVID 19 public health emergency respect dispensing mifepristone throu gh mail” Ibid December 2021 FDA abando ned person dispen sing requirement altogether App735 made decision independent COVID related risks despite recognizing “certain elements Mifepristone REMS Program ”— including “healthcare provider certification dispensing mifepristone patients evidence documentation safe use conditions” —“remain necessary assure safe use mifepristone” “ensure benefits mifepristone outweigh risks” Ibid January 3 2023 FDA modified Case 222cv00223Z Document 100 Filed 021323 Page 12 26 PageID 3771 7 mifepristone REMS program make clear agency’s position drug dispensed certified prescribers retail pharmacies “in person mail” US Food Drug Admin Information Mifepristone Medical Termination Pregnancy Ten Weeks Gestation httpbitly3kHmh8Q FDA authorized evaluat e new drugs safety effectiveness State primarily responsible protecting health welfare citizens Many States including several amici thus enacted laws regulate abortion inducing drugs account dangers laws include inperson examination dispensing requirements qualification requirements prescribers mandates informed consent bans distribution mailing combination safety limitations See infra lawsuit seeks enjoin panoply agency actions FDA approved mifepristone made widely accessible discarded measures manage risks pres ents ARGUMENT Public Interest Equities Support Injunctive Relief FDA ’s Actions Mifepristone FDA’s challenged actions mifepristone deeply flawed defy federal law flout public interest determinations States properly made undermine public interest enforcement validly enacted state laws features strongly support injunctive relief agency ’s actions Case 222cv00223Z Document 100 Filed 021323 Page 13 26 PageID 3772 8 Public Interest nd Equities Weigh Strongly FDA’s Actions Th ose Actions Defy Federal Law Plaintiff demonstrated FDA’s actions mifepristone violate Federal Food Drug Cosmetic Act related FDA regulations See Pls’ Mot 1423 Amici emphasize FDA’s actions defy agency’s regulations also federal law restricting mailing abortion drugs public interest equities thus favor injunctive relief aga inst FDA’s actions agency action defies public interest unlawful “ generally public interest perpetuation unlawful agency action” Texas v Biden 10 F4th 538 560 5th Cir 2021 brackets omitted see also Wages White Lion Invs LLC v FDA 16 F4th 1130 1143 5th Cir 2021 llowing illegal actions government agencies stand “undermines” th e public interest Valley v Rapides Parish Sch Bd 118 F3d 1047 1056 5th Cir 1997 trong public interest “ governmental agencies abide federal laws govern existence operations” Biden 10 F4th 559 FDA’s actions wo basic legal flaws First FDA’s approval mifepristone defie agency’s regulations noted agency relied Subpart H regulations first approved mifepristone 2000 Subpart H permit FDA approve “certain new drug products studied safety effectiveness treating serious life threatening illnesses provide meaningful therapeutic benefit patients existing treatments” 21 CFR § 314500 emphasis added regulation doubly foreclose FDA’s approval Pregnancy “illness ” natural state essential perpetuating human life typical early stage Case 222cv00223Z Document 100 Filed 021323 Page 14 26 PageID 3773 9 pregnancy without complications condition “serious life threa tening” requires “treatment” mifepristone provides FDA admits pregnancy illness claims rulemaking “explained Subpart H available serious life threatening ‘conditions’ whether understood colloquially ‘illnesses’” Opp 26 Dkt 28 quoting New Drug Antibiotic Biological Drug Product Regulations Accelerated Approval 57 Fed Reg 58942 58946 Dec 11 1992 unambiguous regulation—not agency’s aspirational gloss —controls explained hat clear regulatory text defeats FDA’s view thus approval mifepristone FDA’s argument suggests could approved mifepristone Subpart H cases pregnant woman’s life health seriously danger —and FDA still would stuck reality pregnancy “illness ” 21 CFR § 314500 Subpart H permit agency greenlight elective abortions wide scale FDA also claims “any hypothetical error initial reliance Subpart H” “been ov ertaken congressional action” Opp 25 26 argument agency confident legality actions argument fails Congress established REMS framework 2007 temporarily “deemed effect approved risk evaluation mitigation strategy” “drug previously approved” Subpart H “elements assure safe use ” Pub L 110 85 § 909b1 121 Stat 950 required sponsors drugs “submit FDA proposed risk evaluation mitigation strategy” within 180 days id § 909b3 121 Stat 951 means Case 222cv00223Z Document 100 Filed 021323 Page 15 26 PageID 3774 10 Congress “deemed” preexisting safety requirements sufficient REMS programs new 2007 law new strateg approved law affect whether drug properly authorized Subpart H first place treat “serious life threatening illnesses” 21 CFR § 314500 Congressional action blot FDA’s defiance regulation Second FDA’s actions defy federal criminal law Longstanding federal law provides “every article thing designed adapted intended producing abortion declared nonmailable matter shall conveyed mails delivered post office letter carrier” 18 USC § 1461 related statute makes federal crime “knowingly use express company common carrier” ship “in interstate foreign commerce drug medicine article thing designed adapted intended producing abortion ” Id § 1462 Violations either statute punishable five years imprisonment Id §§ 1461 1462 statutes prohibit using mail send receive abortion inducing drugs mifepristone statutes’ restrictions abortion remai ned place —even Congress repealed parts laws See Pub L 91 662 84 Stat 1973 1971 repealing certain restrictions contraceptives section 1461 Congress also considered narrow ing statutes targeted intent requirement See HR 13959 95th Cong §§ 6701a12 67021Ci 1978 see also HR Rep 29 pt 3 42 1979 explaining bill would “changed current law” efforts failed latebreaking memo Biden Justice Department see Application Comstock Act Mailing Prescription Drugs Used Abortions Case 222cv00223Z Document 100 Filed 021323 Page 16 26 PageID 3775 11 46 Op OLC Dec 23 2022 reads section 1461 1462 intent requirement Congress refused enact memo cannot paper clear statutory language historical reality Congress altered relevant text FDA’s challenged actions mifepristone thus defy agency’s regulatory authority longstanding federal criminal law B ecause actions war law FDA cannot claim public interest enforc ing Indeed enjoining FDA “abide by” federal law would promote public interest Biden 10 F4th 559 —and issuing injunctive relief would “undermine” public interest Valley 118 F3d 1056 B FDA’s Actions Undermine Public Interest Determinations tates —Not Federal Agencies —Are Entitled Make FDA responding changed circumstances safety mifepristone cast aside longstanding requirements person dispensing agency following legislative mandate Congress promoting new mail order abortion regime Rather agency acting behest Biden Administration allies demanded political action Dobbs decision Administration swiftly declared duly enacted state laws abortion “devastating implications” “public health” federal government would act “expand access abortion care including medication abortion” Protecting Access Reproductive H ealthcare Services Exec Order 14076 87 Fed Reg 42053 42053 2022 —despite considered judgments elected representatives address health interests stake Case 222cv00223Z Document 100 Filed 021323 Page 17 26 PageID 3776 12 Supreme Court recognized responsibility elected r epresentatives States —not unelected bureaucrats federal agencies —to strike balance “competing interests” abortion Dobbs 142 Ct 2268 FDA’s actions seek override balance properly struck States allowed stand th ose actions harm public interest Constitution States primary authority legislate protect health safety welfare citizens Hillsborough Cnty Fla v Automated Med Laboratories Inc 471 US 707 719 1985 “The regulation health safety matters primarily historically matter local concern” Metro Life Ins Co v Massachusetts 471 US 724 756 1985 “The States traditionally great latitude po lice powers legislate protection lives limbs health comfort quiet persons” internal quotation marks omitted power includes regulating medical profession setting standards ca Gonzales v Oregon 546 US 243 270 2006 “A functioning medical profession regulated States’ police powers” Using authority States adopted varying approaches abortion reflect policy decisions constituent citizen State laws restricting abortion ubiquitously include provisions protect woman’s life Eg Miss Code Ann § 41 41452 commonly include exceptions circumstances Eg ibid abortion permitted “where pregnancy caused rape” Many States passed laws address particular risks presented chemical abortions laws recognize example “abortion inducing drugs” “present significant medical risks women ” “ uterine hemorrhage viral infections pelvic Case 222cv00223Z Document 100 Filed 021323 Page 18 26 PageID 3777 13 inflammatory disease severe bacterial infection death ” id § 4141103a “are associated increased risk complications relative surgical abortion” heightens “with increasing gestational age” id § 4141103b “are contraindicated ectopic pregnancies” id § 41411072 Given risks States used regulatory authority direct example physicians may provide drugs physician may “physically examining woman documenting gestational age intrauterine location pregnancy ” abortion drug “must administered room physical presence physician” ensuring pregnant woman informed risks monitored complications Id §§ 41411072 3 see eg Ind Code Ann § 163421 requiring person exam dispensing La Stat Ann § 4010611 1 requiring person dispensing Okla Stat Ann tit 63 § 17291 requiring person dispen sing Tex Health Safety Code Ann § 171063b 1 prohibiting shipment abortion inducing drug “by courier delivery mail service” Last like methods elective abortion elective chemical abortion generally unlawful numerous States Eg Miss Code Ann § 4141452 abortion unlawful except “where necessary preservation mother’s life pregnancy caused rape” actions issue FDA sought impose federal mai lorder abortion regime disregards protections life health safety adopted numerous States’ elected representatives authority “ regulat e prohibit abortion ” belongs “the citizens State” Dobbs 142 Ct 2284 FDA may determin e whether mifepristone “safe effective” Case 222cv00223Z Document 100 Filed 021323 Page 19 26 PageID 3778 14 intended use 21 CFR § § 3142 314500 agency authority make broad policy judgments balanc ing people’s interests “prenatal life stages development” “maternal health safety” “the integrity medical profession ” Dobbs 142 Ct 2284 L egislatures authority state legislatures balanced interests thers laws reflect views constituent citizens Insofar federal legislature weighed area condemn FDA done Congress expressly declared drugs “designed adapted intended fo r producing abortion shall conveyed mails” 18 USC § 1461 State laws chemical abortion thus account public interests issue — benefit democratic legitimacy legal authority FDA’s actions make claim obstructing judgments elected representatives agency undermine public interest Given absence authority FDA establish mail order abortion regime— States ’ retained authority act US Const amend X —the public interest strongly weighs FDA’s effort override duly enacted state laws C FDA’s Actions Harm Public Interest Undermining States’ Ability Protect Cit izens Forcing States Divert Scarce Resources Investigating Prosecuting Violations Laws Even FDA ’s approv al mifepristone harmonized agency’s regulations federal criminal law actions would simply displace state laws regulat ing abortion amici States entitled enforce duly enacted Case 222cv00223Z Document 100 Filed 021323 Page 20 26 PageID 3779 15 laws regulating chemical abortion interests life health safety Yet FDA’s actions undercut efforts thu harm public interest Biden Administration claims power broadly make abortion drugs accessible despite contrary determinations States despite regulations States may enacted protect life health safety use drugs See Memorandum Efforts Protect Access Reproductive Healthcare Services White House Jan 22 2023 httpbitly3kEZrPl Biden Memorandum claim wrong federal law manifest Congress’s “clear manifest purpose” displace state law context Rice v Santa Fe Elevator Corp 331 US 218 230 1947 see al ibid Courts “start assumption historic police powers States superseded unless clear manifest purpose Congress” need clear statement Congress “is heightened ” “ administrative interpretation alters federal state framework permitting federal encroachment upon traditional state power” Solid Waste Agency N Cook Cnty v US Army Corps Engineers 531 US 159 173 2001 see also Metro Life 471 US 740 Courts “must presume Congress intend pre empt areas traditional state regulation” discussed relevant federal statutes criminalize send ing receiv ing abortion drugs mail thus affirmatively condemn FDA’s actions Supra Part B States thus entitled enforce laws —protecting life health safety —against persons businesses involved distributin g recei ving abortion drugs b mail Case 222cv00223Z Document 100 Filed 021323 Page 21 26 PageID 3780 16 Yet FDA’s actions undermine States’ laws undercut efforts enforce —as result —harm public interest First FDA’s actions undermine States’ ability protect citizens actions lead w idespread shipment use abortion inducing drugs See Abortion Pills Offered Retail Pharmacies FDA Says NY Times Jan 3 2023 httpbitly3WFFxB0 widespread use often occur defiance state laws protect li fe health safety See Retail Pharmacies Offer Abortion Pill FDA Says Politico Jan 3 2023 httpbitly3wCPl3V “Telemedicine mail delivery pills allowed patients circumvent state bans” Indeed whole point Administration’s recent actions encourage achieve evasion state laws evasion — particularly coupled FDA’s abandonment key protections mifepristone’s use —will harm citizens amici States harm def ies public interest Second FDA’s actions force States devote scarce resources investigatin g prosecuting violations laws FDA continues campaign harm amici’s citizens amici sit Amici en force laws protect citizens FDA’s actions make task hard FDA —and broader Administration —is encouraging lawbreaking mass scale new regime require States divert scar ce resources investigate prosecute violations laws vindicate public interests th laws represent Cf Maine v Taylor 477 US 131 137 1986 “A State clearly legitimate interest continued enforceability statutes ” Texas v Case 222cv00223Z Document 100 Filed 021323 Page 22 26 PageID 3781 17 United States 787 F3d 733 749 5th Cir 2015 “States sovereign interest power create enforce legal code” internal quotation marks omitted enforcement especially hard circumstances given Administration’s position enforce existing federal restrictions abortion drugs treat state laws “barriers” avoided expected stymie defy States’ efforts enforce laws Biden Memorandum cf Remarks President Joe Biden —State Union Address Prepared Delivery White House Feb 7 2023 httpbitly3RHeAfn reaffirming opposition States protecting life health Dobbs subverts public interest equities represented validly enacted state laws strongly supports injunctive relief serious nature FDA’s unlawful actions agency’s decision invite lawbreaking private parties government actors across country favor broad relief FDA Administ ration whole ha intention respect Constitution Supreme Court democratic process comes abortion Court’s decisive action warranted Case 222cv00223Z Document 100 Filed 021323 Page 23 26 PageID 3782 18 CONCLUSION public interest equities support relief FDA’s actions Dated February 13 202 3 Respectfully submitted LYNN FITCH Attorney General Justin L Matheny SCOTT G STEWART MS Bar 106359 Solicitor General JUSTIN L MATHEN MS Bar 100754 Deputy Solicitor General MISSISSIPPI ATTORNEY GENERAL ’S OFFICE PO Box 220 Jackson MS 39205 0220 Telephone 601 359 3680 Fax 601 3592003 justin mathenyagomsgov Counsel Amici Curiae Case 222cv00223Z Document 100 Filed 021323 Page 24 26 PageID 3783 19 behalf Steve Marshall Attorney General State Alabama Treg Taylor Attorney General State Alaska Tim Griffin Attorney General State Arkansas Ashley Moody Attorney General State Florida Christopher Carr Attorney General State Georgia Raúl R Labrador Attorney General State Idaho Theodore E Rokita Attorney General State Indiana Brenna Bird Attorney General State Iowa Kris W Kobach Attorney General State Kansas Daniel Cameron Attorney General Commonwealth Kentucky Jeff Landry Attorney General State Louisiana Austin Knudsen Attorney General State Montana Michael Hilgers Attorney General State Nebraska Dave Yost Attorney General State Ohio Gentner F Drummond Attorney General State Oklahoma Alan Wilson Attorney General State South Carolina Marty J Jackley Attorney General State South Dakota Jonathan Skrmetti Attorney General State Tennessee Ken Paxton Attorney General State Texas Sean Reyes Attorney General State Utah Bridget Hill Attorney General State Wyoming Case 222cv00223Z Document 100 Filed 021323 Page 25 26 PageID 3784 20 CERTIFICATE SERVICE hereby certify foregoing brief served counsel record ECF Dated February 13 2023 Justin L Matheny Justin L Matheny Counsel Amici Curiae Case 222cv00223Z Document 100 Filed 021323 Page 26 26 PageID 3785\n"
     ]
    }
   ],
   "source": [
    "print(doc_text)"
   ]
  },
  {
   "cell_type": "code",
   "execution_count": 5,
   "id": "1f848693",
   "metadata": {},
   "outputs": [],
   "source": [
    "# Divinding text into smaller chunks \n",
    "# (so as we can use model to summerize these chunks of data)\n",
    "def divide_text(text, chunk_size=200):\n",
    "    words = text.split()\n",
    "    num_words = len(words)\n",
    "    divided_text = []\n",
    "    start = 0\n",
    "\n",
    "    while start < num_words:\n",
    "        end = min(start + chunk_size, num_words)\n",
    "        chunk = ' '.join(words[start:end])\n",
    "        divided_text.append(chunk)\n",
    "        start = end\n",
    "\n",
    "    return divided_text\n",
    "\n",
    "div_text = divide_text(doc_text)\n",
    "\n"
   ]
  },
  {
   "cell_type": "code",
   "execution_count": 12,
   "id": "56d53424",
   "metadata": {},
   "outputs": [],
   "source": [
    "# Firstly get the summary of divided chunks\n",
    "\n",
    "\n",
    "def summarize_text(text):\n",
    "    openai.api_key = 'Your API_KEY'\n",
    "    response = openai.Completion.create(\n",
    "        engine=\"text-davinci-003\",\n",
    "        prompt=\"Summarize the following text:\\n\\n\" + text,\n",
    "        max_tokens=100,\n",
    "        temperature=0.1,\n",
    "        top_p=1.0,\n",
    "        \n",
    "    )\n",
    "\n",
    "    summary = response.choices[0].text.strip()\n",
    "    return summary\n",
    "\n",
    "summarized_chunks = []\n",
    "\n",
    "\n",
    "# Concatinating all the chunks of summerized information\n",
    "for text in div_text:\n",
    "    temp = summarize_text(text)\n",
    "    summarized_chunks.append(temp)\n"
   ]
  },
  {
   "cell_type": "code",
   "execution_count": 13,
   "id": "72e5a4a0",
   "metadata": {},
   "outputs": [],
   "source": [
    "# Merge summary in one file\n",
    "with open(\"summaries.txt\", \"w\", encoding=\"utf-8\") as file:\n",
    "    for text in summarized_chunks:\n",
    "        file.write(text)\n",
    "\n",
    "    "
   ]
  },
  {
   "cell_type": "code",
   "execution_count": 20,
   "id": "0ef80fc3",
   "metadata": {},
   "outputs": [
    {
     "name": "stdout",
     "output_type": "stream",
     "text": [
      "Important Points:\n",
      "- 1. The Biden Administration has taken multiple actions to protect access to reproductive healthcare services, including Executive Order 14076, regulations 21 CFR § 3142-1314, 21 CFR § 314500-4, 8-10, 13-14, 21 CFR § 314520-4, 21 CFR § 314500-314560, and the New Drug Antibiotic Biological Drug Product Regulations Accelerated Approval. \n",
      "- 2. The Supreme Court held last year that the authority to regulate or prohibit abortion is entrusted to the people and their elected representatives. \n",
      "- 3. The Biden Administration has been attempting to impose a nationwide policy for elective abortion drugs, but has been met with legal issues. \n",
      "- 4. The US Food and Drug Administration has been trying to establish a regime for access to chemical abortion drugs for two decades, disregarding safety measures and rolling back requirements. \n",
      "- 5. The FDA is responsible for approving new drugs and ensuring they are safe and effective. \n",
      "- 6. In 2011, the FDA established a Risk Evaluation Mitigation Strategy (REMS) program for mifepristone due to serious safety concerns. \n",
      "- 7. This lawsuit seeks to enjoin the FDA's actions, which are deeply flawed and defy federal law, flout public interest determinations made by the States, and undermine the enforcement of validly enacted state laws. \n",
      "- 8. The FDA's actions in relation to the Food Drug Cosmetic Act defy the agency's regulations and federal law, which restrict the mailing of abortion drugs. \n",
      "- 9. The FDA admits that the pregnancy without complications condition is a \"serious life threatening\" condition and requires \"treatment\". \n",
      "- 10. The FDA's actions have defied federal criminal law, which prohibits the use of mail to send or receive abortion inducing drugs such as mifepristone.\n"
     ]
    }
   ],
   "source": [
    "import openai\n",
    "\n",
    "# Set up OpenAI API key\n",
    "openai.api_key = 'Your API_KEY'  # Replace with your OpenAI API key\n",
    "\n",
    "# Read the summarized text file\n",
    "file_path = \"summaries.txt\"\n",
    "\n",
    "with open(file_path, \"r\", encoding=\"utf-8\") as file:\n",
    "    text = file.read()\n",
    "\n",
    "    \n",
    "# Define the prompt\n",
    "prompt = f\"\"\"\n",
    "Input: Provide 10 important points for the court legal document below: {text}\n",
    "\"\"\"\n",
    "\n",
    "\n",
    "\n",
    "# Generate response using OpenAI's completions API\n",
    "response = openai.Completion.create(\n",
    "  engine=\"text-davinci-003\",\n",
    "  prompt=prompt,\n",
    "  temperature=0.3,\n",
    "  max_tokens=1000,\n",
    "  stop=None,\n",
    "  \n",
    ")\n",
    "\n",
    "# Extract the generated important points from the response\n",
    "important_points = response.choices[0].text.strip().split(\"\\n\")\n",
    "\n",
    "# Print the important points\n",
    "print(\"Important Points:\")\n",
    "for point in important_points:\n",
    "    print(\"- \" + point)\n"
   ]
  }
 ],
 "metadata": {
  "kernelspec": {
   "display_name": "Python 3 (ipykernel)",
   "language": "python",
   "name": "python3"
  },
  "language_info": {
   "codemirror_mode": {
    "name": "ipython",
    "version": 3
   },
   "file_extension": ".py",
   "mimetype": "text/x-python",
   "name": "python",
   "nbconvert_exporter": "python",
   "pygments_lexer": "ipython3",
   "version": "3.9.12"
  }
 },
 "nbformat": 4,
 "nbformat_minor": 5
}
